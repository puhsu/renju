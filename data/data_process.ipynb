{
 "cells": [
  {
   "cell_type": "code",
   "execution_count": 14,
   "metadata": {},
   "outputs": [],
   "source": [
    "import numpy as np\n",
    "import tensorflow as tf\n",
    "import matplotlib.pyplot as plt"
   ]
  },
  {
   "cell_type": "code",
   "execution_count": 2,
   "metadata": {},
   "outputs": [],
   "source": [
    "POS_TO_LETTER = 'abcdefghjklmnop'\n",
    "LETTER_TO_POS = {letter: pos for pos, letter in enumerate(POS_TO_LETTER)}\n",
    "\n",
    "def to_move(pos):\n",
    "    return POS_TO_LETTER[pos[1]] + str(pos[0] + 1)\n",
    "\n",
    "def to_pos(move):\n",
    "    return int(move[1:]) - 1, LETTER_TO_POS[move[0]]"
   ]
  },
  {
   "cell_type": "code",
   "execution_count": 3,
   "metadata": {},
   "outputs": [],
   "source": [
    "def read_in_chunks(file, size=32768):\n",
    "    while True:\n",
    "        data = file.readlines(size)\n",
    "        if not data:\n",
    "            break\n",
    "        yield data"
   ]
  },
  {
   "cell_type": "code",
   "execution_count": 4,
   "metadata": {},
   "outputs": [],
   "source": [
    "def process_games(games):\n",
    "    \"\"\"\n",
    "    filter draws and store [state, action] pairs for every step in every game\n",
    "    also add:\n",
    "                                                                    Channel indices:\n",
    "        - your turns                                                 0\n",
    "        - 4 channels history for your turns                          2, 4, 6\n",
    "        - opponent turns                                             1\n",
    "        - 4 channels history for opponent turns                      3, 5, 7\n",
    "        - channel about color (all ones if playing for black)        8\n",
    "\n",
    "    \n",
    "    returns:\n",
    "        states -- nd array of shape [games, 15, 15, 9]\n",
    "        labels -- nd array of [games, 1]\n",
    "    \"\"\"\n",
    "    states = []\n",
    "    labels = []\n",
    "    \n",
    "    for game in games:\n",
    "        res, *moves = game.split()\n",
    "        state = np.zeros((15, 15, 9), dtype=np.uint8)\n",
    "\n",
    "        player_prev_move = None\n",
    "        opponent_prev_move = None\n",
    "        \n",
    "        if res == 'white':\n",
    "            player = -1\n",
    "        elif res == 'black':\n",
    "            state[..., 8] = 1\n",
    "            player = 1\n",
    "        else:\n",
    "            continue\n",
    "\n",
    "        for move in moves:\n",
    "            i, j = to_pos(move)\n",
    "\n",
    "            if player == 1:\n",
    "                states.append(np.copy(state))\n",
    "                labels.append(i * 15 + j)\n",
    "\n",
    "            if player == 1:\n",
    "                for s in range(4, 1, -2):\n",
    "                    np.copyto(state[..., s+2], state[..., s])\n",
    "\n",
    "                if player_prev_move:\n",
    "                    m, n = to_pos(player_prev_move)\n",
    "                    state[..., 2] = 0\n",
    "                    state[m, n, 2] = 1\n",
    "\n",
    "                state[i, j, 0] = 1\n",
    "                player_prev_move = move\n",
    "\n",
    "            if player == -1:\n",
    "                for s in range(5, 2, -2):\n",
    "                    np.copyto(state[..., s+2], state[..., s])\n",
    "\n",
    "                if opponent_prev_move:\n",
    "                    m, n = to_pos(opponent_prev_move)\n",
    "                    state[..., 3] = 0\n",
    "                    state[m, n, 3] = 1\n",
    "\n",
    "\n",
    "                state[i, j, 1] = 1\n",
    "                opponent_prev_move = move\n",
    "\n",
    "            player = -player\n",
    "            \n",
    "    return np.array(states), np.array(labels, dtype=np.uint8)"
   ]
  },
  {
   "cell_type": "code",
   "execution_count": 5,
   "metadata": {},
   "outputs": [],
   "source": [
    "with open('train-1.renju') as file:\n",
    "    games = file.readlines(1)\n",
    "    states, lables = process_games(games)"
   ]
  },
  {
   "cell_type": "code",
   "execution_count": 6,
   "metadata": {},
   "outputs": [],
   "source": [
    "def print_state(state, label):\n",
    "    plt.figure(figsize=(15, 10))\n",
    "    for n, i in enumerate(range(0, 8, 2)):\n",
    "        plt.subplot(2, 4, n+1)\n",
    "        plt.imshow(state[..., i], cmap='gray')\n",
    "    for n, i in enumerate(range(1, 8, 2)):\n",
    "        plt.subplot(2, 4, n+5)\n",
    "        plt.imshow(state[..., i], cmap='gray')\n",
    "\n",
    "    plt.show()\n",
    "    print(label // 15, label % 15)"
   ]
  },
  {
   "cell_type": "code",
   "execution_count": 7,
   "metadata": {},
   "outputs": [
    {
     "data": {
      "image/png": "[encoded data removed]",
      "text/plain": [
       "<matplotlib.figure.Figure at 0x110fe3630>"
      ]
     },
     "metadata": {},
     "output_type": "display_data"
    },
    {
     "name": "stdout",
     "output_type": "stream",
     "text": [
      "10 11\n"
     ]
    }
   ],
   "source": [
    "k = 5\n",
    "print_state(states[k], lables[k])"
   ]
  },
  {
   "cell_type": "code",
   "execution_count": null,
   "metadata": {},
   "outputs": [],
   "source": [
    "out_states = open('states.dat', 'wb')\n",
    "out_labels = open('labels.dat', 'wb')\n",
    "\n",
    "\n",
    "with open('train-1.renju') as file:\n",
    "    count = 0\n",
    "    for games in read_in_chunks(file):\n",
    "        states, labels = process_games(games)\n",
    "        out_states.write(states.tobytes())\n",
    "        out_labels.write(labels.tobytes())\n",
    "\n",
    "        count += 1\n",
    "        if (count % 600 == 0):\n",
    "            print(f'{count} chunks DONE')\n",
    "\n",
    "out_states.close()\n",
    "out_labels.close()"
   ]
  },
  {
   "cell_type": "markdown",
   "metadata": {},
   "source": [
    "## Policy network"
   ]
  },
  {
   "cell_type": "code",
   "execution_count": null,
   "metadata": {},
   "outputs": [],
   "source": [
    "class PolicyNet():\n",
    "    def __init__(self, model_file=None):\n",
    "        self.graph = tf.Graph()\n",
    "\n",
    "        if model_file:\n",
    "            self.load_model(model_file)\n",
    "\n",
    "        Conv = tf.layers.conv2d\n",
    "        Relu = tf.nn.relu\n",
    "        BatchNorm = tf.layers.batch_normalization\n",
    "\n",
    "\n",
    "    def setup_network(self):\n",
    "        with self.graph.as_default():\n",
    "            # variables\n",
    "            self.input_boards = tf.placeholder(tf.float32, shape=[None, 15, 15, 9], name=\"input_boards\")\n",
    "            self.labels = tf.placeholder(tf.float32, shape=[None, 1], name='labels')\n",
    "            self.is_training = tf.placeholder(tf.bool, name=\"is_training\")\n",
    "            \n",
    "            # layers\n",
    "            h_conv1 = Conv(input_boards, filters=16, kernel_size=[3,3], padding='same')\n",
    "            h_conv2 = Relu(BatchNorm(Conv(h_conv1, filters=16, kernel_size=[3,3], padding='same'), training=self.is_training))\n",
    "            \n",
    "            h_conv3 = Conv(h_conv2, filters=32, kernel_size=[3,3], padding='same')\n",
    "            h_conv4 = Relu(BatchNorm(Conv(h_conv3, filters=32, kernel_size=[3,3], padding='same'), training=self.is_training))\n",
    "            \n",
    "            h_conv5 = Conv(h_conv4, filters=64, kernel_size=[3,3], padding='same')\n",
    "            h_conv6 = Relu(BatchNorm(Conv(h_conv5, filters=64, kernel_size=[3,3], padding='same'), training=self.is_training))\n",
    "            \n",
    "            h_conv7 = Conv(h_conv6, filters=1, kernel_size=[1,1], padding='same')\n",
    "            h_conv7_flat = tf.reshape(h_conv7, [-1, 15 * 15])\n",
    "            \n",
    "            self.logits = tf.nn.softmax(h_conv7_flat)\n",
    "        \n",
    "            # loss & train step\n",
    "            log_likelihood_cost = tf.reduce_mean(tf.nn.sparse_softmax_cross_entropy_with_logits(labels, logits))\n",
    "            self.train_step = tf.train.AdamOptimizer(1e-4).minimize(log_likelihood_cost)\n",
    "            \n",
    "            \n",
    "\n",
    "    def fit(self, X, y, batch_size=200):\n",
    "        pass\n",
    "    \n",
    "    def predict(self, X):\n",
    "        pass\n",
    "    \n",
    "    def accuracy_score(self, X, y):\n",
    "        pass\n",
    "    \n",
    "    def save_model(self, filepath):\n",
    "        pass\n",
    "    \n",
    "    def load_model(self, filepath):\n",
    "        pass\n",
    "            "
   ]
  }
 ],
 "metadata": {
  "kernelspec": {
   "display_name": "Python 3",
   "language": "python",
   "name": "python3"
  },
  "language_info": {
   "codemirror_mode": {
    "name": "ipython",
    "version": 3
   },
   "file_extension": ".py",
   "mimetype": "text/x-python",
   "name": "python",
   "nbconvert_exporter": "python",
   "pygments_lexer": "ipython3",
   "version": "3.6.5"
  },
  "varInspector": {
   "cols": {
    "lenName": 16,
    "lenType": 16,
    "lenVar": 40
   },
   "kernels_config": {
    "python": {
     "delete_cmd_postfix": "",
     "delete_cmd_prefix": "del ",
     "library": "var_list.py",
     "varRefreshCmd": "print(var_dic_list())"
    },
    "r": {
     "delete_cmd_postfix": ") ",
     "delete_cmd_prefix": "rm(",
     "library": "var_list.r",
     "varRefreshCmd": "cat(var_dic_list()) "
    }
   },
   "oldHeight": 341,
   "position": {
    "height": "363px",
    "left": "910px",
    "right": "20px",
    "top": "120px",
    "width": "350px"
   },
   "types_to_exclude": [
    "module",
    "function",
    "builtin_function_or_method",
    "instance",
    "_Feature"
   ],
   "varInspector_section_display": "block",
   "window_display": false
  }
 },
 "nbformat": 4,
 "nbformat_minor": 2
}
