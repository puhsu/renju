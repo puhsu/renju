{
 "cells": [
  {
   "cell_type": "code",
   "execution_count": null,
   "metadata": {},
   "outputs": [],
   "source": [
    "%matplotlib notebook\n",
    "\n",
    "from agent import DummyAgent, HumanAgent, SLAgent\n",
    "from renju import run_test, Player\n",
    "import nnet"
   ]
  },
  {
   "cell_type": "code",
   "execution_count": null,
   "metadata": {},
   "outputs": [],
   "source": [
    "def pit(black, white):\n",
    "    while True:\n",
    "        result, game = run_test(black, white)\n",
    "        if result == Player.BLACK:\n",
    "            print('Black win')\n",
    "        elif result == Player.WHITE:\n",
    "            print('White win')\n",
    "        else:\n",
    "            print('Draw')\n",
    "\n",
    "\n",
    "        is_ended = 0\n",
    "        while True:\n",
    "            ans = input('Play again? y/n')\n",
    "            if ans == 'y':\n",
    "                break\n",
    "            elif ans == 'n':\n",
    "                is_ended = 1\n",
    "                break\n",
    "            else:\n",
    "                print('Invalid input. Eneter y/n')\n",
    "\n",
    "\n",
    "        if is_ended:\n",
    "            break\n",
    "\n",
    "    return game \n"
   ]
  },
  {
   "cell_type": "code",
   "execution_count": null,
   "metadata": {
    "hide_input": false,
    "scrolled": false
   },
   "outputs": [],
   "source": [
    "import tensorflow\n",
    "tensorflow.reset_default_graph()\n",
    "human = SLAgent('white', nnet.PolicyNet(), modelfile='models/second_model')\n",
    "network = SLAgent('black', nnet.PolicyNet(), modelfile='models/first_model_3epochs')"
   ]
  },
  {
   "cell_type": "code",
   "execution_count": null,
   "metadata": {},
   "outputs": [],
   "source": [
    "game = pit(network, human)"
   ]
  },
  {
   "cell_type": "markdown",
   "metadata": {},
   "source": [
    "# keras policy network"
   ]
  },
  {
   "cell_type": "code",
   "execution_count": null,
   "metadata": {},
   "outputs": [],
   "source": [
    "import keras\n",
    "from keras.layers import Input, Conv2D, Flatten, Reshape\n",
    "from keras.layers import Activation, BatchNormalization\n",
    "from keras.models import Model\n",
    "\n",
    "# clear previous graphs and close session\n",
    "keras.backend.clear_session()\n",
    "\n",
    "inp = Input(shape=(15, 15, 4))\n",
    "x = Conv2D(16, (3, 3), padding='same')(inp)\n",
    "x = Conv2D(16, (3, 3), padding='same')(x)\n",
    "x = BatchNormalization()(Activation('relu')(x))\n",
    "\n",
    "x = Conv2D(32, (3, 3), padding='same')(x)\n",
    "x = Conv2D(32, (3, 3), padding='same')(x)\n",
    "x = Conv2D(32, (3, 3), padding='same')(x)\n",
    "x = BatchNormalization()(Activation('relu')(x))\n",
    "\n",
    "x = Conv2D(64, (3, 3), padding='same')(x)\n",
    "x = Conv2D(64, (3, 3), padding='same')(x)\n",
    "x = Conv2D(64, (3, 3), padding='same')(x)\n",
    "x = Conv2D(1, (1, 1), padding='same')(x)\n",
    "\n",
    "probs = Activation('softmax')(x)\n",
    "predictions = Reshape((225,))(probs)"
   ]
  },
  {
   "cell_type": "code",
   "execution_count": null,
   "metadata": {},
   "outputs": [],
   "source": [
    "model = Model(inputs=inp, outputs=[predictions])"
   ]
  },
  {
   "cell_type": "code",
   "execution_count": null,
   "metadata": {},
   "outputs": [],
   "source": [
    "model.compile(optimizer='Adam',\n",
    "              loss='sparse_categorical_crossentropy',\n",
    "              metrics=['accuracy'])"
   ]
  },
  {
   "cell_type": "code",
   "execution_count": null,
   "metadata": {},
   "outputs": [],
   "source": [
    "model.summary()"
   ]
  },
  {
   "cell_type": "code",
   "execution_count": null,
   "metadata": {},
   "outputs": [],
   "source": [
    "model = keras.models.load_model('model01.hdf5')"
   ]
  },
  {
   "cell_type": "code",
   "execution_count": null,
   "metadata": {},
   "outputs": [],
   "source": [
    "import numpy\n",
    "from tqdm import tqdm\n",
    "import util\n",
    "\n",
    "test = []\n",
    "target = []\n",
    "games = []\n",
    "\n",
    "with open('data/raw/train.renju') as f:\n",
    "    for game in tqdm(f.readlines()[:100]):\n",
    "        games.append(game)\n",
    "        \n",
    "        res, *moves = game.split()\n",
    "        state = numpy.zeros((15, 15, 4), dtype=numpy.uint8)\n",
    "\n",
    "        print(res)\n",
    "        if res == 'white':\n",
    "            player = -1\n",
    "        elif res == 'black':\n",
    "            state[..., 2] = 1\n",
    "            player = 1\n",
    "        else:\n",
    "            continue\n",
    "\n",
    "        for move in moves:\n",
    "            i, j = util.to_pos(move)\n",
    "\n",
    "            if player == 1:\n",
    "                print('writing state')\n",
    "                print(state[...,0])\n",
    "                print()\n",
    "                print(state[...,1])\n",
    "                print()\n",
    "                print(state[...,2])\n",
    "                test.append(numpy.copy(state))\n",
    "                target.append(i * 15 + j)\n",
    "                state[i, j, 0] = 1\n",
    "\n",
    "            if player == -1:\n",
    "                state[i, j, 1] = 1\n",
    "\n",
    "            player = -player"
   ]
  },
  {
   "cell_type": "code",
   "execution_count": null,
   "metadata": {},
   "outputs": [],
   "source": [
    "model.summary()"
   ]
  },
  {
   "cell_type": "code",
   "execution_count": null,
   "metadata": {},
   "outputs": [],
   "source": [
    "print(model.evaluate(x=numpy.array(test[:10000]), y=numpy.array(target[:10000]), verbose=1))"
   ]
  },
  {
   "cell_type": "code",
   "execution_count": null,
   "metadata": {},
   "outputs": [],
   "source": [
    "move=model.predict(x=numpy.array(test[0]).reshape((1, 15, 15, 4)))"
   ]
  },
  {
   "cell_type": "code",
   "execution_count": null,
   "metadata": {},
   "outputs": [],
   "source": [
    "print(move)"
   ]
  },
  {
   "cell_type": "code",
   "execution_count": null,
   "metadata": {},
   "outputs": [],
   "source": [
    "import matplotlib.pyplot as plt\n",
    "i = 3\n",
    "\n",
    "plt.subplot(131)\n",
    "plt.imshow(test[i][..., 0], cmap='gray')\n",
    "plt.subplot(132)\n",
    "plt.imshow(test[i][..., 1], cmap='gray')\n",
    "plt.subplot(133)\n",
    "plt.imshow(test[i][..., 2], cmap='gray')\n",
    "print(test[i][..., 2])"
   ]
  },
  {
   "cell_type": "code",
   "execution_count": null,
   "metadata": {},
   "outputs": [],
   "source": [
    "for i in range(10):\n",
    "    print(test[i][...,0])\n",
    "    print()\n",
    "    print(test[i][...,1])\n",
    "    print()\n",
    "    print(test[i][...,2])"
   ]
  },
  {
   "cell_type": "code",
   "execution_count": null,
   "metadata": {},
   "outputs": [],
   "source": [
    "len(test)"
   ]
  },
  {
   "cell_type": "code",
   "execution_count": null,
   "metadata": {},
   "outputs": [],
   "source": [
    "import nnet"
   ]
  },
  {
   "cell_type": "code",
   "execution_count": null,
   "metadata": {},
   "outputs": [],
   "source": [
    "len(games)"
   ]
  },
  {
   "cell_type": "code",
   "execution_count": null,
   "metadata": {},
   "outputs": [],
   "source": [
    "states_count = 0\n",
    "for game in games:\n",
    "    res, *moves = game.split()\n",
    "    if res == 'black':\n",
    "        states_count += int(numpy.ceil(len(moves) / 2))\n",
    "    if res == 'white':\n",
    "        states_count += int(numpy.floor(len(moves) / 2))\n",
    "\n",
    "\n",
    "generator = nnet.DataGenerator(games, states_count, batch_size=1).generate()\n",
    "\n",
    "step = 0\n",
    "for res in generator:\n",
    "    print(f'------------------- step {step} ------------------------')\n",
    "    print(res[0][...,0])\n",
    "    print()\n",
    "    print(res[0][...,1])\n",
    "    print()\n",
    "    print(res[0][...,2])\n",
    "    print()\n",
    "    step += 1\n",
    "    if step == 15:\n",
    "        break\n"
   ]
  },
  {
   "cell_type": "code",
   "execution_count": null,
   "metadata": {},
   "outputs": [],
   "source": [
    "import keras\n",
    "import numpy\n",
    "import util"
   ]
  },
  {
   "cell_type": "code",
   "execution_count": null,
   "metadata": {},
   "outputs": [],
   "source": [
    "model = keras.models.load_model('models/model03.hdf5')\n",
    "X_test = []\n",
    "y_test = []\n",
    "with open('data/test.renju') as file:\n",
    "    for game in file:\n",
    "        res, *moves = game.split()\n",
    "        state = numpy.zeros((15, 15, 4), dtype=numpy.uint8)\n",
    "\n",
    "        if res == 'white':\n",
    "            player = -1\n",
    "        elif res == 'black':\n",
    "            state[..., 2] = 1\n",
    "            player = 1\n",
    "        else:\n",
    "            continue\n",
    "\n",
    "        for move in moves:\n",
    "            i, j = util.to_pos(move)\n",
    "\n",
    "            if player == 1:\n",
    "                X_test.append(numpy.copy(state))\n",
    "                y_test.append(i * 15 + j)\n",
    "                state[i, j, 0] = 1\n",
    "\n",
    "            if player == -1:\n",
    "                state[i, j, 1] = 1\n",
    "\n",
    "            player = -player\n",
    "\n",
    "X_test = numpy.array(X_test)\n",
    "y_test = numpy.array(y_test)"
   ]
  },
  {
   "cell_type": "code",
   "execution_count": null,
   "metadata": {},
   "outputs": [],
   "source": [
    "print(len(y_test))"
   ]
  },
  {
   "cell_type": "code",
   "execution_count": null,
   "metadata": {},
   "outputs": [],
   "source": [
    "model = keras.models.load_model('models/model.augmentations.01.hdf5')\n",
    "pred = model.predict(X_test[:100000], verbose=1)"
   ]
  },
  {
   "cell_type": "markdown",
   "metadata": {},
   "source": [
    "# Augmentations"
   ]
  },
  {
   "cell_type": "code",
   "execution_count": null,
   "metadata": {},
   "outputs": [],
   "source": [
    "import numpy\n",
    "import matplotlib.pyplot as plt"
   ]
  },
  {
   "cell_type": "code",
   "execution_count": null,
   "metadata": {},
   "outputs": [],
   "source": [
    "# to util\n",
    "def get_rotation_map():\n",
    "    '''returns array with pos (i, j) -> (i', j') maping after k rotations'''\n",
    "    rotation_map = numpy.zeros((4, 15, 15, 2), dtype=int)\n",
    "    for m in range(225):\n",
    "        i, j = m // 15, m % 15\n",
    "        state = numpy.zeros((15, 15))\n",
    "        state[i, j] = 1\n",
    "        for k in range(4):\n",
    "            rotated_state = numpy.rot90(state, k)\n",
    "            pos = numpy.argmax(rotated_state)\n",
    "            rotation_map[k][i, j] = pos // 15, pos % 15\n",
    "    return rotation_map"
   ]
  },
  {
   "cell_type": "code",
   "execution_count": null,
   "metadata": {},
   "outputs": [],
   "source": [
    "rotation_map = get_rotation_map()\n",
    "def augment_state(state, pos):\n",
    "    '''\n",
    "    Randomly shift and/or rotate\n",
    "    '''\n",
    "    # find borders\n",
    "    (min_x, max_x), (min_y, max_y) = (0, 14), (0, 14)\n",
    "    ind_y, ind_x = numpy.nonzero(state)\n",
    "\n",
    "    if ind_x.size > 0:\n",
    "        min_x, max_x = numpy.min(ind_x), numpy.max(ind_x)\n",
    "        min_x = min(min_x, pos[1])\n",
    "        max_x = max(max_x, pos[1])\n",
    "    if ind_y.size > 0:\n",
    "        min_y, max_y = numpy.min(ind_y), numpy.max(ind_y)\n",
    "        min_y = min(min_y, pos[0])\n",
    "        max_y = max(max_y, pos[0])\n",
    "    \n",
    "    # do shift\n",
    "    if numpy.random.uniform(0, 1) < .5:\n",
    "        x_shift = numpy.random.randint(-min_x, 15 - max_x)\n",
    "        y_shift = numpy.random.randint(-min_y, 15 - max_y)\n",
    "        state = numpy.roll(state, (y_shift, x_shift), axis=(0, 1))\n",
    "        pos = pos[0] + y_shift, pos[1] + x_shift\n",
    "        \n",
    "    # do rotation\n",
    "    rotations_n = numpy.random.randint(4)\n",
    "    state = numpy.rot90(state, rotations_n)\n",
    "    pos = tuple(rotation_map[rotations_n][pos])\n",
    "    \n",
    "    # do reflection\n",
    "    if numpy.random.uniform(0, 1) < .5:\n",
    "        state = numpy.fliplr(state)\n",
    "        pos = pos[0], 14 - pos[1]\n",
    "\n",
    "    return state, pos"
   ]
  },
  {
   "cell_type": "code",
   "execution_count": null,
   "metadata": {},
   "outputs": [],
   "source": [
    "# TESTING\n",
    "\n",
    "state = numpy.zeros((15, 15))\n",
    "state[3, 4] = 1\n",
    "state[7, 7] = 1\n",
    "state[5, 9] = 1\n",
    "state[8, 8] = 1\n",
    "state[14, 1] = 1\n",
    "\n",
    "pos = (9, 9)\n",
    "\n",
    "#plt.subplot(121)\n",
    "#plt.imshow(state, cmap='gray')\n",
    "\n",
    "# state, new_pos = augment_state(state, pos)\n",
    "# state[new_pos] = 1\n",
    "\n",
    "# plt.subplot(122)\n",
    "# plt.imshow(state, cmap='gray')"
   ]
  },
  {
   "cell_type": "code",
   "execution_count": null,
   "metadata": {},
   "outputs": [],
   "source": [
    "state = numpy.zeros((15, 15, 4))\n",
    "state[3, 4, 0] = 1\n",
    "state[7, 7, 0] = 1\n",
    "state[5, 9, 0] = 1\n",
    "state[8, 8, 0] = 1\n",
    "state[14, 1, 0] = 1\n",
    "\n",
    "state[3, 4, 1] = 1\n",
    "state[7, 7, 1] = 1\n",
    "state[5, 9, 1] = 1\n",
    "state[8, 8, 1] = 1\n",
    "state[14, 5, 1] = 1\n",
    "\n",
    "\n",
    "\n",
    "plt.subplot(221)\n",
    "plt.imshow(state[..., 0], cmap='gray')\n",
    "plt.subplot(222)\n",
    "plt.imshow(state[..., 1], cmap='gray')\n",
    "\n",
    "state = numpy.rot90(state, 1, axes=(0, 1))\n",
    "\n",
    "plt.subplot(223)\n",
    "plt.imshow(state[..., 0], cmap='gray')\n",
    "plt.subplot(224)\n",
    "plt.imshow(state[..., 1], cmap='gray')"
   ]
  },
  {
   "cell_type": "markdown",
   "metadata": {},
   "source": [
    "# random sampling of pos"
   ]
  },
  {
   "cell_type": "code",
   "execution_count": null,
   "metadata": {},
   "outputs": [],
   "source": [
    "import numpy as np\n",
    "import keras"
   ]
  },
  {
   "cell_type": "code",
   "execution_count": null,
   "metadata": {},
   "outputs": [],
   "source": [
    "a = np.array([1, 2, 3, 4, 5, 10])\n",
    "print(np.random.choice(a, p=[1., .0, .0, .0]))"
   ]
  },
  {
   "cell_type": "code",
   "execution_count": null,
   "metadata": {},
   "outputs": [],
   "source": [
    "model = keras.models.load_model('./models/model.augmentations.01.hdf5')\n",
    "state = np.random.randint(2, size=)"
   ]
  },
  {
   "cell_type": "code",
   "execution_count": null,
   "metadata": {},
   "outputs": [],
   "source": [
    "np.arange(10)"
   ]
  },
  {
   "cell_type": "markdown",
   "metadata": {},
   "source": [
    "# Simple tree search with policy network"
   ]
  },
  {
   "cell_type": "code",
   "execution_count": 10,
   "metadata": {},
   "outputs": [],
   "source": [
    "import numpy\n",
    "import renju\n",
    "import copy\n",
    "import sys\n",
    "import keras\n",
    "import matplotlib.pyplot as plt"
   ]
  },
  {
   "cell_type": "code",
   "execution_count": 2,
   "metadata": {},
   "outputs": [],
   "source": [
    "class Node:\n",
    "    def __init__(self, state, prob):\n",
    "        self.state = state\n",
    "        self.prob = prob\n",
    "        self.children = []"
   ]
  },
  {
   "cell_type": "code",
   "execution_count": 47,
   "metadata": {},
   "outputs": [],
   "source": [
    "class Tree:\n",
    "    def __init__(self, model, max_depth=10, max_actions=5):\n",
    "        self.model = model\n",
    "        self.max_depth = max_depth\n",
    "        self.max_actions = max_actions\n",
    "        self.game = None\n",
    "\n",
    "    def get_prob(self, game):\n",
    "        \"\"\"\n",
    "        return probabilities of actions from current state\n",
    "        \"\"\"\n",
    "        self.game = copy.deepcopy(game)\n",
    "        state = self.game.state()\n",
    "        root = Node(state, prob=1)\n",
    "        self.search(cur=root, depth=0)\n",
    "\n",
    "        return root.children\n",
    "\n",
    "    def search(self, cur, depth):\n",
    "        \"\"\"\n",
    "        return action to take from this node\n",
    "        \"\"\"\n",
    "\n",
    "        if depth == self.max_depth:\n",
    "            return\n",
    "\n",
    "        state = cur.state\n",
    "        probs = self.model.predict(state.reshape((1, 15, 15, 4))).reshape((15, 15))\n",
    "\n",
    "        # get only valid nodes and normalize\n",
    "        valid_actions = probs * self.game.valid()\n",
    "        prob_sum = numpy.sum(valid_actions)\n",
    "        if prob_sum:\n",
    "            valid_actions /= prob_sum\n",
    "        else:\n",
    "            print('All probabilities are zeros. Do something!', file=sys.stderr)\n",
    "            exit(1)\n",
    "\n",
    "        # create max_actions children\n",
    "        actions = numpy.unravel_index(valid_actions.argsort(), valid_actions.shape)[:self.max_actions]\n",
    "        max_prob = -numpy.inf\n",
    "\n",
    "        for (i, j) in actions:\n",
    "            # make move to (i, j), after move undo it.\n",
    "            child = Node(self.game.state(), prob=numpy.log(valid_actions[i, j]))\n",
    "            self.game.move((i, j))\n",
    "            self.search(child, depth + 1)\n",
    "            self.game.undo()\n",
    "\n",
    "            if child.prob > max_prob:\n",
    "                max_prob = child.prob\n",
    "\n",
    "            node.children.append(child)\n",
    "\n",
    "        if depth:\n",
    "            node.prob += max_prob\n"
   ]
  },
  {
   "cell_type": "code",
   "execution_count": 33,
   "metadata": {},
   "outputs": [],
   "source": [
    "game = renju.Game()\n",
    "model = keras.models.load_model('models/model03.hdf5')"
   ]
  },
  {
   "cell_type": "code",
   "execution_count": 48,
   "metadata": {},
   "outputs": [],
   "source": [
    "test_tree = Tree(model)"
   ]
  },
  {
   "cell_type": "code",
   "execution_count": 29,
   "metadata": {},
   "outputs": [],
   "source": [
    "def print_state(state):\n",
    "    plt.subplot(131)\n",
    "    plt.title('Yours')\n",
    "    plt.imshow(state[..., 0], cmap='gray')\n",
    "    \n",
    "    plt.subplot(132)\n",
    "    plt.title('Opponent')\n",
    "    plt.imshow(state[..., 1], cmap='gray')\n",
    "    \n",
    "    plt.subplot(133)\n",
    "    plt.title('Is black')\n",
    "    if state[0, 0, 2]:\n",
    "        print('black now')\n",
    "    plt.imshow(state[..., 2], cmap='gray', vmin=0, vmax=1)\n",
    "    \n",
    "    plt.show()"
   ]
  },
  {
   "cell_type": "code",
   "execution_count": 75,
   "metadata": {},
   "outputs": [],
   "source": [
    "game = renju.Game()\n",
    "game.move((7,7))\n",
    "game.move((8, 7))"
   ]
  },
  {
   "cell_type": "code",
   "execution_count": 76,
   "metadata": {},
   "outputs": [
    {
     "name": "stdout",
     "output_type": "stream",
     "text": [
      "black now\n"
     ]
    },
    {
     "data": {
      "image/png": "[encoded data removed]",
      "text/plain": [
       "<matplotlib.figure.Figure at 0x122a98940>"
      ]
     },
     "metadata": {},
     "output_type": "display_data"
    }
   ],
   "source": [
    "print_state(game.state())"
   ]
  },
  {
   "cell_type": "code",
   "execution_count": 87,
   "metadata": {},
   "outputs": [
    {
     "data": {
      "text/plain": [
       "0.38947028"
      ]
     },
     "execution_count": 87,
     "metadata": {},
     "output_type": "execute_result"
    }
   ],
   "source": [
    "prob = model.predict(game.state().reshape((1, 15, 15, 4)))\n",
    "prob.ravel()[142]"
   ]
  },
  {
   "cell_type": "code",
   "execution_count": 88,
   "metadata": {},
   "outputs": [
    {
     "data": {
      "text/plain": [
       "(9, 8)"
      ]
     },
     "execution_count": 88,
     "metadata": {},
     "output_type": "execute_result"
    }
   ],
   "source": [
    "np.unravel_index(prob.ravel().argsort()[-1], (15, 15))"
   ]
  },
  {
   "cell_type": "code",
   "execution_count": 59,
   "metadata": {},
   "outputs": [
    {
     "name": "stdout",
     "output_type": "stream",
     "text": [
      "[[[2 1]\n",
      "  [0 1]\n",
      "  [2 2]\n",
      "  [1 0]\n",
      "  [1 1]\n",
      "  [1 2]\n",
      "  [0 2]\n",
      "  [0 0]\n",
      "  [2 0]]]\n"
     ]
    }
   ],
   "source": [
    "import numpy as np\n",
    "\n",
    "arr = np.array([[5, 2, 4],\n",
    "[3, 3, 3],\n",
    "[6, 1, 2]])\n",
    "it = np.dstack(np.unravel_index(np.argsort(arr.ravel()), (3, 3)))\n",
    "print(it)"
   ]
  },
  {
   "cell_type": "code",
   "execution_count": 58,
   "metadata": {},
   "outputs": [
    {
     "name": "stdout",
     "output_type": "stream",
     "text": [
      "2 1\n",
      "0 1\n",
      "2 2\n",
      "1 0\n",
      "1 1\n",
      "1 2\n",
      "0 2\n",
      "0 0\n",
      "2 0\n"
     ]
    }
   ],
   "source": [
    "for (i, j) in it[0]:\n",
    "    print(i, j)"
   ]
  },
  {
   "cell_type": "code",
   "execution_count": 71,
   "metadata": {},
   "outputs": [
    {
     "data": {
      "text/plain": [
       "array([[1, 5],\n",
       "       [2, 6],\n",
       "       [3, 7]])"
      ]
     },
     "execution_count": 71,
     "metadata": {},
     "output_type": "execute_result"
    }
   ],
   "source": [
    "a = np.array([1, 2, 3])\n",
    "b = np.array([5, 6, 7])\n",
    "np.column_stack((a,b))"
   ]
  },
  {
   "cell_type": "code",
   "execution_count": 72,
   "metadata": {},
   "outputs": [
    {
     "name": "stdout",
     "output_type": "stream",
     "text": [
      "1 5\n",
      "2 6\n",
      "3 7\n"
     ]
    }
   ],
   "source": [
    "for (i,j) in np.column_stack((a, b)):\n",
    "    print(i,j)"
   ]
  },
  {
   "cell_type": "code",
   "execution_count": 74,
   "metadata": {},
   "outputs": [
    {
     "data": {
      "text/plain": [
       "(array([1, 2, 3]),)"
      ]
     },
     "execution_count": 74,
     "metadata": {},
     "output_type": "execute_result"
    }
   ],
   "source": [
    "(a, b)"
   ]
  },
  {
   "cell_type": "code",
   "execution_count": 1,
   "metadata": {},
   "outputs": [
    {
     "name": "stderr",
     "output_type": "stream",
     "text": [
      "Using TensorFlow backend.\n"
     ]
    }
   ],
   "source": [
    "import mcts"
   ]
  },
  {
   "cell_type": "code",
   "execution_count": 3,
   "metadata": {},
   "outputs": [
    {
     "name": "stdout",
     "output_type": "stream",
     "text": [
      "7.3 s ± 865 ms per loop (mean ± std. dev. of 7 runs, 1 loop each)\n"
     ]
    }
   ],
   "source": [
    "%%timeit\n",
    "mcts.test_launch()"
   ]
  },
  {
   "cell_type": "markdown",
   "metadata": {},
   "source": [
    "# port tree to c++"
   ]
  },
  {
   "cell_type": "code",
   "execution_count": 1,
   "metadata": {},
   "outputs": [],
   "source": [
    "import numpy as np"
   ]
  },
  {
   "cell_type": "code",
   "execution_count": 2,
   "metadata": {},
   "outputs": [],
   "source": [
    "arr = np.random.randint(2, size=(1, 15, 15, 4))"
   ]
  },
  {
   "cell_type": "code",
   "execution_count": 3,
   "metadata": {},
   "outputs": [
    {
     "data": {
      "text/plain": [
       "array([[[[1, 0, 0, 0],\n",
       "         [0, 1, 0, 0],\n",
       "         [1, 1, 1, 1],\n",
       "         [0, 0, 0, 0],\n",
       "         [1, 0, 1, 1],\n",
       "         [1, 1, 0, 0],\n",
       "         [1, 1, 1, 1],\n",
       "         [1, 1, 1, 0],\n",
       "         [1, 1, 0, 0],\n",
       "         [1, 1, 0, 1],\n",
       "         [0, 0, 0, 1],\n",
       "         [1, 1, 1, 1],\n",
       "         [0, 0, 0, 0],\n",
       "         [1, 0, 0, 0],\n",
       "         [1, 0, 1, 1]],\n",
       "\n",
       "        [[0, 1, 0, 0],\n",
       "         [0, 1, 1, 0],\n",
       "         [0, 0, 1, 1],\n",
       "         [1, 0, 1, 1],\n",
       "         [0, 0, 1, 1],\n",
       "         [1, 0, 1, 1],\n",
       "         [0, 0, 1, 1],\n",
       "         [0, 0, 0, 0],\n",
       "         [1, 1, 1, 1],\n",
       "         [0, 1, 1, 0],\n",
       "         [1, 0, 0, 0],\n",
       "         [0, 1, 0, 0],\n",
       "         [1, 0, 1, 1],\n",
       "         [0, 1, 1, 1],\n",
       "         [1, 0, 0, 0]],\n",
       "\n",
       "        [[1, 0, 1, 1],\n",
       "         [1, 0, 1, 1],\n",
       "         [1, 0, 1, 1],\n",
       "         [1, 0, 0, 1],\n",
       "         [0, 0, 0, 0],\n",
       "         [1, 0, 1, 1],\n",
       "         [0, 1, 0, 0],\n",
       "         [1, 1, 1, 1],\n",
       "         [1, 0, 1, 0],\n",
       "         [1, 0, 1, 1],\n",
       "         [1, 1, 1, 1],\n",
       "         [0, 0, 0, 1],\n",
       "         [0, 0, 0, 0],\n",
       "         [0, 1, 1, 1],\n",
       "         [1, 0, 0, 1]],\n",
       "\n",
       "        [[1, 0, 1, 1],\n",
       "         [1, 0, 1, 0],\n",
       "         [1, 0, 0, 0],\n",
       "         [0, 0, 0, 1],\n",
       "         [1, 1, 1, 1],\n",
       "         [1, 1, 0, 1],\n",
       "         [0, 0, 0, 1],\n",
       "         [0, 0, 1, 0],\n",
       "         [0, 0, 0, 0],\n",
       "         [0, 1, 0, 1],\n",
       "         [1, 0, 0, 0],\n",
       "         [1, 0, 1, 1],\n",
       "         [1, 0, 1, 1],\n",
       "         [1, 0, 1, 0],\n",
       "         [1, 0, 1, 1]],\n",
       "\n",
       "        [[1, 0, 1, 1],\n",
       "         [0, 0, 1, 0],\n",
       "         [1, 0, 1, 0],\n",
       "         [0, 1, 1, 1],\n",
       "         [0, 0, 1, 1],\n",
       "         [1, 1, 0, 0],\n",
       "         [1, 0, 1, 0],\n",
       "         [1, 0, 1, 0],\n",
       "         [1, 1, 0, 0],\n",
       "         [0, 1, 1, 1],\n",
       "         [1, 0, 0, 0],\n",
       "         [0, 0, 0, 1],\n",
       "         [1, 0, 0, 0],\n",
       "         [1, 0, 1, 1],\n",
       "         [1, 1, 1, 1]],\n",
       "\n",
       "        [[0, 0, 0, 0],\n",
       "         [1, 1, 0, 1],\n",
       "         [1, 0, 0, 1],\n",
       "         [1, 1, 0, 0],\n",
       "         [1, 0, 0, 0],\n",
       "         [0, 1, 1, 1],\n",
       "         [0, 1, 0, 1],\n",
       "         [0, 0, 1, 1],\n",
       "         [0, 1, 0, 0],\n",
       "         [0, 0, 0, 1],\n",
       "         [0, 0, 0, 0],\n",
       "         [0, 1, 1, 1],\n",
       "         [1, 1, 0, 1],\n",
       "         [1, 0, 0, 0],\n",
       "         [0, 1, 1, 1]],\n",
       "\n",
       "        [[1, 0, 1, 0],\n",
       "         [0, 0, 1, 0],\n",
       "         [0, 0, 0, 0],\n",
       "         [0, 0, 0, 0],\n",
       "         [0, 1, 0, 0],\n",
       "         [0, 0, 0, 0],\n",
       "         [0, 0, 1, 1],\n",
       "         [1, 1, 0, 1],\n",
       "         [1, 1, 1, 1],\n",
       "         [1, 0, 0, 1],\n",
       "         [0, 0, 0, 0],\n",
       "         [1, 0, 0, 0],\n",
       "         [0, 0, 1, 1],\n",
       "         [0, 1, 1, 0],\n",
       "         [0, 1, 1, 0]],\n",
       "\n",
       "        [[1, 1, 1, 0],\n",
       "         [1, 1, 0, 1],\n",
       "         [0, 0, 0, 1],\n",
       "         [1, 1, 1, 1],\n",
       "         [1, 1, 0, 1],\n",
       "         [1, 1, 1, 0],\n",
       "         [1, 1, 0, 0],\n",
       "         [0, 0, 1, 0],\n",
       "         [0, 0, 0, 0],\n",
       "         [0, 1, 1, 1],\n",
       "         [1, 0, 0, 1],\n",
       "         [1, 1, 1, 1],\n",
       "         [0, 1, 1, 0],\n",
       "         [1, 1, 0, 0],\n",
       "         [0, 0, 1, 0]],\n",
       "\n",
       "        [[0, 1, 0, 1],\n",
       "         [1, 0, 0, 1],\n",
       "         [1, 0, 1, 0],\n",
       "         [1, 0, 1, 1],\n",
       "         [0, 1, 1, 0],\n",
       "         [1, 1, 0, 1],\n",
       "         [1, 0, 0, 1],\n",
       "         [0, 1, 1, 0],\n",
       "         [1, 0, 1, 0],\n",
       "         [0, 1, 1, 0],\n",
       "         [1, 1, 1, 0],\n",
       "         [1, 0, 0, 0],\n",
       "         [1, 1, 0, 0],\n",
       "         [1, 1, 0, 0],\n",
       "         [1, 0, 1, 1]],\n",
       "\n",
       "        [[0, 0, 0, 1],\n",
       "         [1, 0, 1, 0],\n",
       "         [0, 0, 0, 0],\n",
       "         [1, 0, 1, 1],\n",
       "         [0, 0, 0, 1],\n",
       "         [0, 0, 1, 1],\n",
       "         [0, 1, 1, 1],\n",
       "         [1, 1, 1, 0],\n",
       "         [1, 1, 1, 1],\n",
       "         [1, 1, 0, 1],\n",
       "         [0, 1, 1, 0],\n",
       "         [0, 0, 0, 1],\n",
       "         [0, 1, 1, 0],\n",
       "         [0, 1, 1, 1],\n",
       "         [0, 0, 1, 1]],\n",
       "\n",
       "        [[1, 1, 0, 0],\n",
       "         [1, 1, 0, 0],\n",
       "         [0, 1, 0, 0],\n",
       "         [0, 1, 1, 1],\n",
       "         [0, 1, 1, 0],\n",
       "         [1, 1, 1, 1],\n",
       "         [0, 0, 0, 1],\n",
       "         [0, 0, 0, 0],\n",
       "         [0, 0, 1, 1],\n",
       "         [0, 0, 0, 1],\n",
       "         [0, 1, 1, 0],\n",
       "         [1, 1, 0, 0],\n",
       "         [1, 1, 0, 1],\n",
       "         [0, 0, 1, 0],\n",
       "         [0, 0, 1, 1]],\n",
       "\n",
       "        [[1, 1, 1, 1],\n",
       "         [1, 1, 1, 0],\n",
       "         [0, 1, 0, 0],\n",
       "         [1, 0, 1, 1],\n",
       "         [0, 0, 0, 1],\n",
       "         [1, 1, 0, 0],\n",
       "         [0, 1, 0, 1],\n",
       "         [0, 1, 0, 1],\n",
       "         [1, 1, 0, 1],\n",
       "         [1, 0, 0, 1],\n",
       "         [1, 1, 0, 0],\n",
       "         [1, 0, 0, 1],\n",
       "         [0, 1, 1, 0],\n",
       "         [1, 1, 0, 1],\n",
       "         [0, 1, 1, 1]],\n",
       "\n",
       "        [[0, 0, 0, 1],\n",
       "         [0, 1, 0, 0],\n",
       "         [1, 0, 0, 0],\n",
       "         [1, 0, 1, 1],\n",
       "         [1, 1, 0, 0],\n",
       "         [1, 0, 0, 1],\n",
       "         [1, 1, 0, 0],\n",
       "         [0, 1, 1, 0],\n",
       "         [1, 0, 0, 1],\n",
       "         [0, 1, 1, 0],\n",
       "         [1, 1, 1, 1],\n",
       "         [1, 0, 1, 0],\n",
       "         [0, 0, 1, 1],\n",
       "         [1, 0, 0, 1],\n",
       "         [0, 0, 1, 1]],\n",
       "\n",
       "        [[1, 1, 1, 0],\n",
       "         [1, 0, 0, 0],\n",
       "         [1, 0, 0, 0],\n",
       "         [1, 0, 0, 0],\n",
       "         [1, 1, 0, 1],\n",
       "         [0, 0, 1, 0],\n",
       "         [1, 0, 0, 0],\n",
       "         [0, 0, 1, 1],\n",
       "         [1, 1, 1, 0],\n",
       "         [0, 0, 1, 1],\n",
       "         [0, 0, 1, 1],\n",
       "         [1, 1, 1, 0],\n",
       "         [1, 1, 1, 0],\n",
       "         [0, 1, 1, 0],\n",
       "         [0, 0, 0, 1]],\n",
       "\n",
       "        [[0, 1, 1, 0],\n",
       "         [1, 0, 1, 1],\n",
       "         [0, 0, 0, 1],\n",
       "         [1, 1, 1, 0],\n",
       "         [0, 0, 0, 1],\n",
       "         [1, 0, 0, 0],\n",
       "         [1, 0, 1, 1],\n",
       "         [0, 0, 1, 0],\n",
       "         [0, 0, 1, 1],\n",
       "         [1, 1, 0, 1],\n",
       "         [0, 1, 1, 0],\n",
       "         [0, 1, 0, 1],\n",
       "         [0, 1, 1, 1],\n",
       "         [0, 1, 0, 1],\n",
       "         [1, 0, 0, 1]]]])"
      ]
     },
     "execution_count": 3,
     "metadata": {},
     "output_type": "execute_result"
    }
   ],
   "source": [
    "arr"
   ]
  },
  {
   "cell_type": "markdown",
   "metadata": {},
   "source": [
    "# c++ port of tree"
   ]
  },
  {
   "cell_type": "code",
   "execution_count": 1,
   "metadata": {},
   "outputs": [
    {
     "name": "stderr",
     "output_type": "stream",
     "text": [
      "Using TensorFlow backend.\n"
     ]
    }
   ],
   "source": [
    "import numpy as np\n",
    "import keras"
   ]
  },
  {
   "cell_type": "code",
   "execution_count": 2,
   "metadata": {},
   "outputs": [
    {
     "name": "stdout",
     "output_type": "stream",
     "text": [
      "[[2.06568226e-01 1.06625315e-02 2.12555612e-03 1.83567242e-03\n",
      "  2.13115616e-03 2.82744318e-03 3.26621043e-03 3.58152855e-03\n",
      "  4.58812434e-03 4.99216001e-03 4.51299222e-03 7.02464860e-03\n",
      "  2.01956816e-02 3.95977162e-02 7.75009466e-05 1.11337733e-02\n",
      "  2.64280476e-04 8.55023172e-05 9.25901550e-05 1.52147841e-04\n",
      "  1.46652179e-04 2.18556961e-04 2.60192115e-04 3.55720549e-04\n",
      "  3.71140253e-04 7.66325626e-04 2.67171557e-03 2.49332841e-03\n",
      "  2.72282073e-03 3.18590282e-05 2.86148721e-03 6.18652048e-05\n",
      "  4.21563927e-05 1.63705961e-04 7.42348842e-04 1.04413566e-03\n",
      "  2.19894690e-03 2.38486147e-03 1.60462840e-03 7.90511142e-04\n",
      "  4.06524632e-04 8.06127151e-04 3.75493476e-03 1.53258478e-03\n",
      "  2.60982642e-06 3.23749660e-03 1.32735062e-04 2.00870767e-04\n",
      "  1.32536283e-03 7.51121249e-03 1.09934034e-02 1.69335604e-02\n",
      "  1.76119134e-02 9.89758875e-03 5.64586883e-03 1.09661836e-03\n",
      "  1.91291585e-03 4.86293249e-03 3.34520708e-03 3.70959401e-06\n",
      "  4.18896880e-03 1.61828983e-04 1.16264840e-04 6.21963991e-04\n",
      "  6.72021601e-03 9.33187641e-03 1.77869853e-02 2.44473591e-02\n",
      "  1.41526228e-02 1.59886274e-02 6.65496569e-03 3.54019576e-04\n",
      "  1.49596063e-03 1.81983307e-03 8.72462078e-06 6.45662053e-03\n",
      "  2.89642019e-04 1.62305645e-04 4.66107682e-04 7.21565157e-04\n",
      "  1.39020744e-03 7.53603829e-03 8.47004727e-03 9.15955810e-04\n",
      "  1.87730719e-03 1.30258582e-03 2.64268368e-04 6.37949677e-04\n",
      "  8.26032949e-04 1.31253155e-05 7.68445432e-03 4.84298245e-04\n",
      "  2.41530914e-04 2.36789274e-04 3.07320675e-04 8.17578053e-04\n",
      "  5.09647932e-03 9.21649113e-03 2.99593550e-04 5.94764366e-04\n",
      "  4.46364982e-04 1.10151057e-04 2.67960393e-04 3.93377413e-04\n",
      "  1.35171849e-05 7.66509399e-03 5.75677026e-04 2.99186417e-04\n",
      "  1.28806903e-04 1.37105337e-04 9.04796936e-04 1.00001432e-02\n",
      "  9.84363165e-03 2.62977148e-04 3.69238085e-04 3.08361108e-04\n",
      "  1.30476459e-04 2.47870135e-04 3.33510106e-04 1.43098159e-05\n",
      "  7.63907889e-03 6.00196247e-04 3.35774705e-04 1.56440103e-04\n",
      "  1.85005658e-04 1.36282307e-03 1.32644726e-02 1.55210095e-02\n",
      "  4.13634320e-04 5.48308948e-04 3.53680749e-04 1.09695880e-04\n",
      "  2.11952298e-04 2.76318780e-04 1.31876486e-05 4.70224908e-03\n",
      "  2.62458023e-04 1.18025710e-04 4.52341919e-05 4.66857491e-05\n",
      "  3.68801004e-04 3.82443261e-03 4.00063163e-03 1.53704532e-04\n",
      "  3.37186619e-04 2.17809153e-04 9.25363129e-05 1.85625628e-04\n",
      "  2.90777301e-04 1.42663494e-05 6.31555216e-03 2.21357754e-04\n",
      "  5.08064913e-05 1.10250630e-05 8.69143605e-06 3.36831654e-05\n",
      "  2.46999873e-04 2.41012734e-04 2.46876352e-05 1.10249843e-04\n",
      "  1.16496587e-04 1.20644996e-04 2.24224365e-04 2.92791956e-04\n",
      "  1.42694789e-05 2.32008705e-03 5.63220383e-05 1.63036548e-05\n",
      "  4.08071719e-06 2.60264324e-06 5.83885003e-06 2.07235134e-05\n",
      "  1.78451337e-05 4.25772168e-06 2.05868073e-05 2.36083379e-05\n",
      "  4.38988827e-05 1.00842277e-04 1.28831962e-04 7.80505252e-06\n",
      "  9.04466119e-03 1.89308426e-04 7.60933253e-05 3.79732774e-05\n",
      "  3.79724806e-05 6.83897815e-05 1.53145302e-04 1.24697559e-04\n",
      "  4.48216924e-05 1.18156124e-04 1.83130542e-04 5.35440922e-04\n",
      "  1.23069505e-03 1.76449888e-03 1.96431683e-05 1.35224788e-02\n",
      "  2.45070230e-04 1.10118075e-04 4.02879487e-05 5.42738853e-05\n",
      "  8.51813238e-05 1.28510466e-04 1.28901025e-04 6.13371885e-05\n",
      "  6.65217303e-05 1.65741847e-04 3.16544349e-04 7.17890216e-04\n",
      "  4.54418448e-04 6.85137820e-06 2.17973217e-01 1.29544949e-02\n",
      "  2.78229686e-03 1.91130012e-03 2.01603794e-03 2.99042230e-03\n",
      "  3.43799870e-03 3.64113320e-03 2.63196323e-03 2.85347272e-03\n",
      "  3.67931044e-03 4.45357477e-03 6.68539107e-03 3.76940495e-03\n",
      "  5.54759521e-04]]\n"
     ]
    }
   ],
   "source": [
    "model = keras.models.load_model('models/model03.hdf5')\n",
    "board = np.zeros((1, 15, 15, 4))\n",
    "\n",
    "print(model.predict(board))"
   ]
  },
  {
   "cell_type": "code",
   "execution_count": 11,
   "metadata": {},
   "outputs": [
    {
     "name": "stdout",
     "output_type": "stream",
     "text": [
      "[[[0 0 1]\n",
      "  [1 1 0]\n",
      "  [0 1 0]\n",
      "  [0 1 1]\n",
      "  [0 0 0]\n",
      "  [0 1 0]\n",
      "  [0 1 1]\n",
      "  [0 0 0]\n",
      "  [0 0 1]\n",
      "  [1 1 0]\n",
      "  [0 1 1]\n",
      "  [1 0 1]\n",
      "  [1 1 1]\n",
      "  [0 1 1]\n",
      "  [0 1 0]]\n",
      "\n",
      " [[0 1 1]\n",
      "  [1 0 1]\n",
      "  [1 0 0]\n",
      "  [0 1 0]\n",
      "  [0 0 1]\n",
      "  [0 0 1]\n",
      "  [1 1 1]\n",
      "  [1 1 0]\n",
      "  [1 1 0]\n",
      "  [0 1 1]\n",
      "  [1 1 0]\n",
      "  [1 1 0]\n",
      "  [1 1 0]\n",
      "  [0 0 0]\n",
      "  [1 0 0]]\n",
      "\n",
      " [[1 0 0]\n",
      "  [0 0 0]\n",
      "  [1 0 0]\n",
      "  [0 0 0]\n",
      "  [0 1 0]\n",
      "  [0 0 0]\n",
      "  [1 1 0]\n",
      "  [0 0 0]\n",
      "  [1 0 1]\n",
      "  [1 0 1]\n",
      "  [0 0 1]\n",
      "  [0 0 1]\n",
      "  [1 1 0]\n",
      "  [0 1 1]\n",
      "  [0 1 1]]\n",
      "\n",
      " [[1 1 1]\n",
      "  [0 0 1]\n",
      "  [0 0 0]\n",
      "  [1 0 0]\n",
      "  [1 0 1]\n",
      "  [0 0 0]\n",
      "  [1 1 0]\n",
      "  [0 1 0]\n",
      "  [0 0 1]\n",
      "  [1 0 1]\n",
      "  [1 1 1]\n",
      "  [0 1 1]\n",
      "  [0 0 0]\n",
      "  [0 0 0]\n",
      "  [1 0 1]]\n",
      "\n",
      " [[1 0 1]\n",
      "  [0 1 1]\n",
      "  [0 1 0]\n",
      "  [1 0 0]\n",
      "  [1 1 1]\n",
      "  [1 0 1]\n",
      "  [1 0 0]\n",
      "  [0 0 0]\n",
      "  [0 1 0]\n",
      "  [1 0 1]\n",
      "  [0 1 0]\n",
      "  [1 0 0]\n",
      "  [1 1 0]\n",
      "  [1 0 1]\n",
      "  [1 1 1]]\n",
      "\n",
      " [[1 0 1]\n",
      "  [0 0 1]\n",
      "  [1 1 0]\n",
      "  [0 0 1]\n",
      "  [1 1 1]\n",
      "  [1 0 0]\n",
      "  [0 1 0]\n",
      "  [0 1 0]\n",
      "  [0 1 0]\n",
      "  [1 0 0]\n",
      "  [1 0 0]\n",
      "  [0 1 1]\n",
      "  [1 0 0]\n",
      "  [0 0 0]\n",
      "  [0 0 0]]\n",
      "\n",
      " [[1 1 1]\n",
      "  [0 0 1]\n",
      "  [0 0 0]\n",
      "  [1 0 1]\n",
      "  [0 0 1]\n",
      "  [1 0 1]\n",
      "  [0 1 0]\n",
      "  [0 1 0]\n",
      "  [1 1 0]\n",
      "  [1 1 0]\n",
      "  [0 0 1]\n",
      "  [1 0 1]\n",
      "  [1 1 1]\n",
      "  [1 1 0]\n",
      "  [1 1 1]]\n",
      "\n",
      " [[0 0 1]\n",
      "  [1 1 1]\n",
      "  [0 0 1]\n",
      "  [1 1 1]\n",
      "  [1 1 0]\n",
      "  [1 0 0]\n",
      "  [0 1 0]\n",
      "  [0 0 0]\n",
      "  [0 0 1]\n",
      "  [1 0 1]\n",
      "  [0 0 1]\n",
      "  [0 0 1]\n",
      "  [0 1 1]\n",
      "  [1 1 1]\n",
      "  [1 1 0]]\n",
      "\n",
      " [[1 0 0]\n",
      "  [0 0 1]\n",
      "  [0 0 0]\n",
      "  [0 0 1]\n",
      "  [0 1 0]\n",
      "  [0 0 1]\n",
      "  [1 0 1]\n",
      "  [0 1 0]\n",
      "  [1 0 0]\n",
      "  [0 1 1]\n",
      "  [0 1 1]\n",
      "  [1 1 0]\n",
      "  [1 1 1]\n",
      "  [0 0 1]\n",
      "  [0 1 0]]\n",
      "\n",
      " [[1 1 0]\n",
      "  [1 0 0]\n",
      "  [0 1 0]\n",
      "  [0 1 1]\n",
      "  [0 0 0]\n",
      "  [0 0 0]\n",
      "  [0 1 0]\n",
      "  [0 1 0]\n",
      "  [1 1 0]\n",
      "  [1 1 0]\n",
      "  [0 0 0]\n",
      "  [1 1 0]\n",
      "  [1 0 1]\n",
      "  [1 1 0]\n",
      "  [1 0 0]]\n",
      "\n",
      " [[0 1 1]\n",
      "  [1 0 1]\n",
      "  [0 1 0]\n",
      "  [0 0 1]\n",
      "  [1 1 0]\n",
      "  [0 1 1]\n",
      "  [0 0 1]\n",
      "  [1 0 1]\n",
      "  [0 1 1]\n",
      "  [0 1 1]\n",
      "  [0 0 1]\n",
      "  [0 1 1]\n",
      "  [0 0 1]\n",
      "  [1 1 0]\n",
      "  [1 0 0]]\n",
      "\n",
      " [[1 0 0]\n",
      "  [0 0 0]\n",
      "  [1 1 0]\n",
      "  [1 0 0]\n",
      "  [1 0 1]\n",
      "  [0 1 1]\n",
      "  [1 1 1]\n",
      "  [1 1 1]\n",
      "  [0 1 1]\n",
      "  [1 1 1]\n",
      "  [1 1 0]\n",
      "  [0 1 1]\n",
      "  [1 1 1]\n",
      "  [0 0 0]\n",
      "  [0 0 1]]\n",
      "\n",
      " [[0 0 0]\n",
      "  [0 0 1]\n",
      "  [1 0 0]\n",
      "  [1 0 1]\n",
      "  [1 0 1]\n",
      "  [0 1 0]\n",
      "  [0 1 0]\n",
      "  [0 1 0]\n",
      "  [1 1 0]\n",
      "  [1 0 0]\n",
      "  [0 0 0]\n",
      "  [0 1 0]\n",
      "  [1 0 1]\n",
      "  [1 1 0]\n",
      "  [0 0 1]]\n",
      "\n",
      " [[0 0 1]\n",
      "  [1 1 0]\n",
      "  [0 0 1]\n",
      "  [1 1 1]\n",
      "  [1 1 0]\n",
      "  [1 1 1]\n",
      "  [0 0 1]\n",
      "  [1 1 0]\n",
      "  [0 1 0]\n",
      "  [1 0 1]\n",
      "  [1 1 0]\n",
      "  [0 0 1]\n",
      "  [1 1 0]\n",
      "  [0 0 0]\n",
      "  [1 1 0]]\n",
      "\n",
      " [[0 0 0]\n",
      "  [1 1 1]\n",
      "  [0 0 0]\n",
      "  [1 0 1]\n",
      "  [1 0 0]\n",
      "  [0 1 0]\n",
      "  [0 0 0]\n",
      "  [1 0 0]\n",
      "  [1 1 1]\n",
      "  [1 0 0]\n",
      "  [0 0 0]\n",
      "  [1 0 1]\n",
      "  [1 0 0]\n",
      "  [1 1 0]\n",
      "  [0 0 1]]]\n"
     ]
    }
   ],
   "source": [
    "import tensorflow as tf\n",
    "import numpy as np\n",
    "\n",
    "sess = tf.InteractiveSession()\n",
    "\n",
    "a = np.random.randint(2, size=(15, 15, 2))\n",
    "b = np.random.randint(2, size=(15, 15, 1))\n",
    "\n",
    "#c = tf.stack([a, b], 0)\n",
    "c = tf.concat([a, b], 2)\n",
    "print(c.eval())"
   ]
  },
  {
   "cell_type": "code",
   "execution_count": 13,
   "metadata": {},
   "outputs": [
    {
     "name": "stdout",
     "output_type": "stream",
     "text": [
      "[[0 1 0 0 0 0 0 0 0 1 0 1 1 0 0]\n",
      " [0 1 1 0 0 0 1 1 1 0 1 1 1 0 1]\n",
      " [1 0 1 0 0 0 1 0 1 1 0 0 1 0 0]\n",
      " [1 0 0 1 1 0 1 0 0 1 1 0 0 0 1]\n",
      " [1 0 0 1 1 1 1 0 0 1 0 1 1 1 1]\n",
      " [1 0 1 0 1 1 0 0 0 1 1 0 1 0 0]\n",
      " [1 0 0 1 0 1 0 0 1 1 0 1 1 1 1]\n",
      " [0 1 0 1 1 1 0 0 0 1 0 0 0 1 1]\n",
      " [1 0 0 0 0 0 1 0 1 0 0 1 1 0 0]\n",
      " [1 1 0 0 0 0 0 0 1 1 0 1 1 1 1]\n",
      " [0 1 0 0 1 0 0 1 0 0 0 0 0 1 1]\n",
      " [1 0 1 1 1 0 1 1 0 1 1 0 1 0 0]\n",
      " [0 0 1 1 1 0 0 0 1 1 0 0 1 1 0]\n",
      " [0 1 0 1 1 1 0 1 0 1 1 0 1 0 1]\n",
      " [0 1 0 1 1 0 0 1 1 1 0 1 1 1 0]]\n",
      "\n",
      "[[0 1 1 1 0 1 1 0 0 1 1 0 1 1 1]\n",
      " [1 0 0 1 0 0 1 1 1 1 1 1 1 0 0]\n",
      " [0 0 0 0 1 0 1 0 0 0 0 0 1 1 1]\n",
      " [1 0 0 0 0 0 1 1 0 0 1 1 0 0 0]\n",
      " [0 1 1 0 1 0 0 0 1 0 1 0 1 0 1]\n",
      " [0 0 1 0 1 0 1 1 1 0 0 1 0 0 0]\n",
      " [1 0 0 0 0 0 1 1 1 1 0 0 1 1 1]\n",
      " [0 1 0 1 1 0 1 0 0 0 0 0 1 1 1]\n",
      " [0 0 0 0 1 0 0 1 0 1 1 1 1 0 1]\n",
      " [1 0 1 1 0 0 1 1 1 1 0 1 0 1 0]\n",
      " [1 0 1 0 1 1 0 0 1 1 0 1 0 1 0]\n",
      " [0 0 1 0 0 1 1 1 1 1 1 1 1 0 0]\n",
      " [0 0 0 0 0 1 1 1 1 0 0 1 0 1 0]\n",
      " [0 1 0 1 1 1 0 1 1 0 1 0 1 0 1]\n",
      " [0 1 0 0 0 1 0 0 1 0 0 0 0 1 0]]\n",
      "\n",
      "[[1 0 0 1 0 0 1 0 1 0 1 1 1 1 0]\n",
      " [1 1 0 0 1 1 1 0 0 1 0 0 0 0 0]\n",
      " [0 0 0 0 0 0 0 0 1 1 1 1 0 1 1]\n",
      " [1 1 0 0 1 0 0 0 1 1 1 1 0 0 1]\n",
      " [1 1 0 0 1 1 0 0 0 1 0 0 0 1 1]\n",
      " [1 1 0 1 1 0 0 0 0 0 0 1 0 0 0]\n",
      " [1 1 0 1 1 1 0 0 0 0 1 1 1 0 1]\n",
      " [1 1 1 1 0 0 0 0 1 1 1 1 1 1 0]\n",
      " [0 1 0 1 0 1 1 0 0 1 1 0 1 1 0]\n",
      " [0 0 0 1 0 0 0 0 0 0 0 0 1 0 0]\n",
      " [1 1 0 1 0 1 1 1 1 1 1 1 1 0 0]\n",
      " [0 0 0 0 1 1 1 1 1 1 0 1 1 0 1]\n",
      " [0 1 0 1 1 0 0 0 0 0 0 0 1 0 1]\n",
      " [1 0 1 1 0 1 1 0 0 1 0 1 0 0 0]\n",
      " [0 1 0 1 0 0 0 0 1 0 0 1 0 0 1]]\n"
     ]
    }
   ],
   "source": [
    "print(a[...,0])\n",
    "print()\n",
    "print(a[...,1])\n",
    "print()\n",
    "print(b[...,0])"
   ]
  },
  {
   "cell_type": "code",
   "execution_count": 16,
   "metadata": {},
   "outputs": [
    {
     "name": "stdout",
     "output_type": "stream",
     "text": [
      "[[0 0 0 0 0 0 0 0 0 0 0 0 0 0 0]\n",
      " [0 0 0 0 0 0 0 0 0 0 0 0 0 0 0]\n",
      " [0 0 0 0 0 0 0 0 0 0 0 0 0 0 0]\n",
      " [0 0 0 0 0 0 0 0 0 0 0 0 0 0 0]\n",
      " [0 0 0 0 0 0 0 0 0 0 0 0 0 0 0]\n",
      " [0 0 0 0 0 0 0 0 0 0 0 0 0 0 0]\n",
      " [0 0 0 0 0 0 0 0 0 0 0 0 0 0 0]\n",
      " [0 0 0 0 0 0 0 0 0 0 0 0 0 0 0]\n",
      " [0 0 0 0 0 0 0 0 0 0 0 0 0 0 0]\n",
      " [0 0 0 0 0 0 0 0 0 0 0 0 0 0 0]\n",
      " [0 0 0 0 0 0 0 0 0 0 0 0 0 0 0]\n",
      " [0 0 0 0 0 0 0 0 0 0 0 0 0 0 0]\n",
      " [0 0 0 0 0 0 0 0 0 0 0 0 0 0 0]\n",
      " [0 0 0 0 0 0 0 0 0 0 0 0 0 0 0]\n",
      " [0 0 0 0 0 0 0 0 0 0 0 0 0 0 0]]\n",
      "\n",
      "[[0 0 0 0 0 0 0 0 0 0 0 0 0 0 0]\n",
      " [0 0 0 0 0 0 0 0 0 0 0 0 0 0 0]\n",
      " [0 0 0 0 0 0 0 0 0 0 0 0 0 0 0]\n",
      " [0 0 0 0 0 0 0 0 0 0 0 0 0 0 0]\n",
      " [0 0 0 0 0 0 0 0 0 0 0 0 0 0 0]\n",
      " [0 0 0 0 0 0 0 0 0 0 0 0 0 0 0]\n",
      " [0 0 0 0 0 0 0 0 0 0 0 0 0 0 0]\n",
      " [0 0 0 0 0 0 0 0 0 0 0 0 0 0 0]\n",
      " [0 0 0 0 0 0 0 0 0 0 0 0 0 0 0]\n",
      " [0 0 0 0 0 0 0 0 0 0 0 0 0 0 0]\n",
      " [0 0 0 0 0 0 0 0 0 0 0 0 0 0 0]\n",
      " [0 0 0 0 0 0 0 0 0 0 0 0 0 0 0]\n",
      " [0 0 0 0 0 0 0 0 0 0 0 0 0 0 0]\n",
      " [0 0 0 0 0 0 0 0 0 0 0 0 0 0 0]\n",
      " [0 0 0 0 0 0 0 0 0 0 0 0 0 0 0]]\n",
      "\n",
      "[[0 0 0 0 0 0 0 0 0 0 0 0 0 0 0]\n",
      " [0 0 0 0 0 0 0 0 0 0 0 0 0 0 0]\n",
      " [0 0 0 0 0 0 0 0 0 0 0 0 0 0 0]\n",
      " [0 0 0 0 0 0 0 0 0 0 0 0 0 0 0]\n",
      " [0 0 0 0 0 0 0 0 0 0 0 0 0 0 0]\n",
      " [0 0 0 0 0 0 0 0 0 0 0 0 0 0 0]\n",
      " [0 0 0 0 0 0 0 0 0 0 0 0 0 0 0]\n",
      " [0 0 0 0 0 0 0 0 0 0 0 0 0 0 0]\n",
      " [0 0 0 0 0 0 0 0 0 0 0 0 0 0 0]\n",
      " [0 0 0 0 0 0 0 0 0 0 0 0 0 0 0]\n",
      " [0 0 0 0 0 0 0 0 0 0 0 0 0 0 0]\n",
      " [0 0 0 0 0 0 0 0 0 0 0 0 0 0 0]\n",
      " [0 0 0 0 0 0 0 0 0 0 0 0 0 0 0]\n",
      " [0 0 0 0 0 0 0 0 0 0 0 0 0 0 0]\n",
      " [0 0 0 0 0 0 0 0 0 0 0 0 0 0 0]]\n"
     ]
    }
   ],
   "source": [
    "arr = c.eval()\n",
    "print(a[...,0] - arr[..., 0])\n",
    "print()\n",
    "print(a[...,1] - arr[..., 1])\n",
    "print()\n",
    "print(b[...,0] - arr[..., 2])"
   ]
  },
  {
   "cell_type": "code",
   "execution_count": null,
   "metadata": {},
   "outputs": [],
   "source": []
  }
 ],
 "metadata": {
  "kernelspec": {
   "display_name": "Python 3",
   "language": "python",
   "name": "python3"
  },
  "language_info": {
   "codemirror_mode": {
    "name": "ipython",
    "version": 3
   },
   "file_extension": ".py",
   "mimetype": "text/x-python",
   "name": "python",
   "nbconvert_exporter": "python",
   "pygments_lexer": "ipython3",
   "version": "3.6.5"
  },
  "varInspector": {
   "cols": {
    "lenName": 16,
    "lenType": 16,
    "lenVar": 40
   },
   "kernels_config": {
    "python": {
     "delete_cmd_postfix": "",
     "delete_cmd_prefix": "del ",
     "library": "var_list.py",
     "varRefreshCmd": "print(var_dic_list())"
    },
    "r": {
     "delete_cmd_postfix": ") ",
     "delete_cmd_prefix": "rm(",
     "library": "var_list.r",
     "varRefreshCmd": "cat(var_dic_list()) "
    }
   },
   "types_to_exclude": [
    "module",
    "function",
    "builtin_function_or_method",
    "instance",
    "_Feature"
   ],
   "window_display": false
  }
 },
 "nbformat": 4,
 "nbformat_minor": 2
}
